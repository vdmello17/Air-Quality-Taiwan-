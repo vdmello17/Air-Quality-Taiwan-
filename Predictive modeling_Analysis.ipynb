{
  "cells": [
    {
      "cell_type": "code",
      "source": [
        "!pip install findspark"
      ],
      "metadata": {
        "colab": {
          "base_uri": "https://localhost:8080/"
        },
        "id": "gfczMKj9BMdj",
        "outputId": "20f0fbb7-746a-4016-bad3-ec237a1f7a8e"
      },
      "id": "gfczMKj9BMdj",
      "execution_count": null,
      "outputs": [
        {
          "output_type": "stream",
          "name": "stdout",
          "text": [
            "Requirement already satisfied: findspark in /usr/local/lib/python3.10/dist-packages (2.0.1)\n"
          ]
        }
      ]
    },
    {
      "cell_type": "code",
      "execution_count": null,
      "id": "dc132d70-295c-4ccd-a68d-bd6e7faef0be",
      "metadata": {
        "id": "dc132d70-295c-4ccd-a68d-bd6e7faef0be"
      },
      "outputs": [],
      "source": [
        "import findspark\n",
        "findspark.init()"
      ]
    },
    {
      "cell_type": "code",
      "source": [
        "from pyspark.sql import SparkSession\n",
        "from pyspark import SparkContext\n",
        "from pyspark.sql.functions import col, when, avg, count, lit, window\n",
        "from pyspark.sql.window import Window\n",
        "\n",
        "# Initialize Spark Session with Spark UI enabled\n",
        "sc = SparkContext(\"local\", \"Distributed Data Cleaning/Processing\")\n",
        "spark = SparkSession(sc)\n",
        "print(sc.uiWebUrl)\n",
        "# Load dataset\n",
        "# Replace 'your_file.csv' with your dataset file\n",
        "df = spark.read.csv('project.csv', header=True, inferSchema=True)\n",
        "df = df.limit(100000)\n",
        "\n",
        "df.printSchema()\n",
        "\n",
        "# Stop the SparkContext to free resources (optional)\n",
        "# sc.stop()\n"
      ],
      "metadata": {
        "colab": {
          "base_uri": "https://localhost:8080/",
          "height": 1000
        },
        "id": "FrCN-xE_B0VZ",
        "outputId": "17b2433c-2ac0-4590-a3d4-68f7e8d4dafe"
      },
      "id": "FrCN-xE_B0VZ",
      "execution_count": null,
      "outputs": [
        {
          "output_type": "error",
          "ename": "Py4JJavaError",
          "evalue": "An error occurred while calling None.org.apache.spark.api.java.JavaSparkContext.\n: org.apache.spark.SparkException: Only one SparkContext should be running in this JVM (see SPARK-2243).The currently running SparkContext was created at:\norg.apache.spark.api.java.JavaSparkContext.<init>(JavaSparkContext.scala:58)\njava.base/jdk.internal.reflect.NativeConstructorAccessorImpl.newInstance0(Native Method)\njava.base/jdk.internal.reflect.NativeConstructorAccessorImpl.newInstance(NativeConstructorAccessorImpl.java:62)\njava.base/jdk.internal.reflect.DelegatingConstructorAccessorImpl.newInstance(DelegatingConstructorAccessorImpl.java:45)\njava.base/java.lang.reflect.Constructor.newInstance(Constructor.java:490)\npy4j.reflection.MethodInvoker.invoke(MethodInvoker.java:247)\npy4j.reflection.ReflectionEngine.invoke(ReflectionEngine.java:374)\npy4j.Gateway.invoke(Gateway.java:238)\npy4j.commands.ConstructorCommand.invokeConstructor(ConstructorCommand.java:80)\npy4j.commands.ConstructorCommand.execute(ConstructorCommand.java:69)\npy4j.ClientServerConnection.waitForCommands(ClientServerConnection.java:182)\npy4j.ClientServerConnection.run(ClientServerConnection.java:106)\njava.base/java.lang.Thread.run(Thread.java:829)\n\tat org.apache.spark.SparkContext$.$anonfun$assertNoOtherContextIsRunning$2(SparkContext.scala:2840)\n\tat scala.Option.foreach(Option.scala:407)\n\tat org.apache.spark.SparkContext$.assertNoOtherContextIsRunning(SparkContext.scala:2837)\n\tat org.apache.spark.SparkContext$.markPartiallyConstructed(SparkContext.scala:2927)\n\tat org.apache.spark.SparkContext.<init>(SparkContext.scala:99)\n\tat org.apache.spark.api.java.JavaSparkContext.<init>(JavaSparkContext.scala:58)\n\tat java.base/jdk.internal.reflect.NativeConstructorAccessorImpl.newInstance0(Native Method)\n\tat java.base/jdk.internal.reflect.NativeConstructorAccessorImpl.newInstance(NativeConstructorAccessorImpl.java:62)\n\tat java.base/jdk.internal.reflect.DelegatingConstructorAccessorImpl.newInstance(DelegatingConstructorAccessorImpl.java:45)\n\tat java.base/java.lang.reflect.Constructor.newInstance(Constructor.java:490)\n\tat py4j.reflection.MethodInvoker.invoke(MethodInvoker.java:247)\n\tat py4j.reflection.ReflectionEngine.invoke(ReflectionEngine.java:374)\n\tat py4j.Gateway.invoke(Gateway.java:238)\n\tat py4j.commands.ConstructorCommand.invokeConstructor(ConstructorCommand.java:80)\n\tat py4j.commands.ConstructorCommand.execute(ConstructorCommand.java:69)\n\tat py4j.ClientServerConnection.waitForCommands(ClientServerConnection.java:182)\n\tat py4j.ClientServerConnection.run(ClientServerConnection.java:106)\n\tat java.base/java.lang.Thread.run(Thread.java:829)\n",
          "traceback": [
            "\u001b[0;31m---------------------------------------------------------------------------\u001b[0m",
            "\u001b[0;31mPy4JJavaError\u001b[0m                             Traceback (most recent call last)",
            "\u001b[0;32m<ipython-input-65-020ea376541f>\u001b[0m in \u001b[0;36m<cell line: 7>\u001b[0;34m()\u001b[0m\n\u001b[1;32m      5\u001b[0m \u001b[0;34m\u001b[0m\u001b[0m\n\u001b[1;32m      6\u001b[0m \u001b[0;31m# Initialize Spark Session with Spark UI enabled\u001b[0m\u001b[0;34m\u001b[0m\u001b[0;34m\u001b[0m\u001b[0m\n\u001b[0;32m----> 7\u001b[0;31m \u001b[0msc\u001b[0m \u001b[0;34m=\u001b[0m \u001b[0mSparkContext\u001b[0m\u001b[0;34m(\u001b[0m\u001b[0;34m\"local\"\u001b[0m\u001b[0;34m,\u001b[0m \u001b[0;34m\"Distributed Data Cleaning/Processing\"\u001b[0m\u001b[0;34m)\u001b[0m\u001b[0;34m\u001b[0m\u001b[0;34m\u001b[0m\u001b[0m\n\u001b[0m\u001b[1;32m      8\u001b[0m \u001b[0mspark\u001b[0m \u001b[0;34m=\u001b[0m \u001b[0mSparkSession\u001b[0m\u001b[0;34m(\u001b[0m\u001b[0msc\u001b[0m\u001b[0;34m)\u001b[0m\u001b[0;34m\u001b[0m\u001b[0;34m\u001b[0m\u001b[0m\n\u001b[1;32m      9\u001b[0m \u001b[0mprint\u001b[0m\u001b[0;34m(\u001b[0m\u001b[0msc\u001b[0m\u001b[0;34m.\u001b[0m\u001b[0muiWebUrl\u001b[0m\u001b[0;34m)\u001b[0m\u001b[0;34m\u001b[0m\u001b[0;34m\u001b[0m\u001b[0m\n",
            "\u001b[0;32m/usr/local/lib/python3.10/dist-packages/pyspark/context.py\u001b[0m in \u001b[0;36m__init__\u001b[0;34m(self, master, appName, sparkHome, pyFiles, environment, batchSize, serializer, conf, gateway, jsc, profiler_cls, udf_profiler_cls, memory_profiler_cls)\u001b[0m\n\u001b[1;32m    201\u001b[0m         \u001b[0mSparkContext\u001b[0m\u001b[0;34m.\u001b[0m\u001b[0m_ensure_initialized\u001b[0m\u001b[0;34m(\u001b[0m\u001b[0mself\u001b[0m\u001b[0;34m,\u001b[0m \u001b[0mgateway\u001b[0m\u001b[0;34m=\u001b[0m\u001b[0mgateway\u001b[0m\u001b[0;34m,\u001b[0m \u001b[0mconf\u001b[0m\u001b[0;34m=\u001b[0m\u001b[0mconf\u001b[0m\u001b[0;34m)\u001b[0m\u001b[0;34m\u001b[0m\u001b[0;34m\u001b[0m\u001b[0m\n\u001b[1;32m    202\u001b[0m         \u001b[0;32mtry\u001b[0m\u001b[0;34m:\u001b[0m\u001b[0;34m\u001b[0m\u001b[0;34m\u001b[0m\u001b[0m\n\u001b[0;32m--> 203\u001b[0;31m             self._do_init(\n\u001b[0m\u001b[1;32m    204\u001b[0m                 \u001b[0mmaster\u001b[0m\u001b[0;34m,\u001b[0m\u001b[0;34m\u001b[0m\u001b[0;34m\u001b[0m\u001b[0m\n\u001b[1;32m    205\u001b[0m                 \u001b[0mappName\u001b[0m\u001b[0;34m,\u001b[0m\u001b[0;34m\u001b[0m\u001b[0;34m\u001b[0m\u001b[0m\n",
            "\u001b[0;32m/usr/local/lib/python3.10/dist-packages/pyspark/context.py\u001b[0m in \u001b[0;36m_do_init\u001b[0;34m(self, master, appName, sparkHome, pyFiles, environment, batchSize, serializer, conf, jsc, profiler_cls, udf_profiler_cls, memory_profiler_cls)\u001b[0m\n\u001b[1;32m    294\u001b[0m \u001b[0;34m\u001b[0m\u001b[0m\n\u001b[1;32m    295\u001b[0m         \u001b[0;31m# Create the Java SparkContext through Py4J\u001b[0m\u001b[0;34m\u001b[0m\u001b[0;34m\u001b[0m\u001b[0m\n\u001b[0;32m--> 296\u001b[0;31m         \u001b[0mself\u001b[0m\u001b[0;34m.\u001b[0m\u001b[0m_jsc\u001b[0m \u001b[0;34m=\u001b[0m \u001b[0mjsc\u001b[0m \u001b[0;32mor\u001b[0m \u001b[0mself\u001b[0m\u001b[0;34m.\u001b[0m\u001b[0m_initialize_context\u001b[0m\u001b[0;34m(\u001b[0m\u001b[0mself\u001b[0m\u001b[0;34m.\u001b[0m\u001b[0m_conf\u001b[0m\u001b[0;34m.\u001b[0m\u001b[0m_jconf\u001b[0m\u001b[0;34m)\u001b[0m\u001b[0;34m\u001b[0m\u001b[0;34m\u001b[0m\u001b[0m\n\u001b[0m\u001b[1;32m    297\u001b[0m         \u001b[0;31m# Reset the SparkConf to the one actually used by the SparkContext in JVM.\u001b[0m\u001b[0;34m\u001b[0m\u001b[0;34m\u001b[0m\u001b[0m\n\u001b[1;32m    298\u001b[0m         \u001b[0mself\u001b[0m\u001b[0;34m.\u001b[0m\u001b[0m_conf\u001b[0m \u001b[0;34m=\u001b[0m \u001b[0mSparkConf\u001b[0m\u001b[0;34m(\u001b[0m\u001b[0m_jconf\u001b[0m\u001b[0;34m=\u001b[0m\u001b[0mself\u001b[0m\u001b[0;34m.\u001b[0m\u001b[0m_jsc\u001b[0m\u001b[0;34m.\u001b[0m\u001b[0msc\u001b[0m\u001b[0;34m(\u001b[0m\u001b[0;34m)\u001b[0m\u001b[0;34m.\u001b[0m\u001b[0mconf\u001b[0m\u001b[0;34m(\u001b[0m\u001b[0;34m)\u001b[0m\u001b[0;34m)\u001b[0m\u001b[0;34m\u001b[0m\u001b[0;34m\u001b[0m\u001b[0m\n",
            "\u001b[0;32m/usr/local/lib/python3.10/dist-packages/pyspark/context.py\u001b[0m in \u001b[0;36m_initialize_context\u001b[0;34m(self, jconf)\u001b[0m\n\u001b[1;32m    419\u001b[0m         \"\"\"\n\u001b[1;32m    420\u001b[0m         \u001b[0;32massert\u001b[0m \u001b[0mself\u001b[0m\u001b[0;34m.\u001b[0m\u001b[0m_jvm\u001b[0m \u001b[0;32mis\u001b[0m \u001b[0;32mnot\u001b[0m \u001b[0;32mNone\u001b[0m\u001b[0;34m\u001b[0m\u001b[0;34m\u001b[0m\u001b[0m\n\u001b[0;32m--> 421\u001b[0;31m         \u001b[0;32mreturn\u001b[0m \u001b[0mself\u001b[0m\u001b[0;34m.\u001b[0m\u001b[0m_jvm\u001b[0m\u001b[0;34m.\u001b[0m\u001b[0mJavaSparkContext\u001b[0m\u001b[0;34m(\u001b[0m\u001b[0mjconf\u001b[0m\u001b[0;34m)\u001b[0m\u001b[0;34m\u001b[0m\u001b[0;34m\u001b[0m\u001b[0m\n\u001b[0m\u001b[1;32m    422\u001b[0m \u001b[0;34m\u001b[0m\u001b[0m\n\u001b[1;32m    423\u001b[0m     \u001b[0;34m@\u001b[0m\u001b[0mclassmethod\u001b[0m\u001b[0;34m\u001b[0m\u001b[0;34m\u001b[0m\u001b[0m\n",
            "\u001b[0;32m/usr/local/lib/python3.10/dist-packages/py4j/java_gateway.py\u001b[0m in \u001b[0;36m__call__\u001b[0;34m(self, *args)\u001b[0m\n\u001b[1;32m   1585\u001b[0m \u001b[0;34m\u001b[0m\u001b[0m\n\u001b[1;32m   1586\u001b[0m         \u001b[0manswer\u001b[0m \u001b[0;34m=\u001b[0m \u001b[0mself\u001b[0m\u001b[0;34m.\u001b[0m\u001b[0m_gateway_client\u001b[0m\u001b[0;34m.\u001b[0m\u001b[0msend_command\u001b[0m\u001b[0;34m(\u001b[0m\u001b[0mcommand\u001b[0m\u001b[0;34m)\u001b[0m\u001b[0;34m\u001b[0m\u001b[0;34m\u001b[0m\u001b[0m\n\u001b[0;32m-> 1587\u001b[0;31m         return_value = get_return_value(\n\u001b[0m\u001b[1;32m   1588\u001b[0m             answer, self._gateway_client, None, self._fqn)\n\u001b[1;32m   1589\u001b[0m \u001b[0;34m\u001b[0m\u001b[0m\n",
            "\u001b[0;32m/usr/local/lib/python3.10/dist-packages/pyspark/errors/exceptions/captured.py\u001b[0m in \u001b[0;36mdeco\u001b[0;34m(*a, **kw)\u001b[0m\n\u001b[1;32m    177\u001b[0m     \u001b[0;32mdef\u001b[0m \u001b[0mdeco\u001b[0m\u001b[0;34m(\u001b[0m\u001b[0;34m*\u001b[0m\u001b[0ma\u001b[0m\u001b[0;34m:\u001b[0m \u001b[0mAny\u001b[0m\u001b[0;34m,\u001b[0m \u001b[0;34m**\u001b[0m\u001b[0mkw\u001b[0m\u001b[0;34m:\u001b[0m \u001b[0mAny\u001b[0m\u001b[0;34m)\u001b[0m \u001b[0;34m->\u001b[0m \u001b[0mAny\u001b[0m\u001b[0;34m:\u001b[0m\u001b[0;34m\u001b[0m\u001b[0;34m\u001b[0m\u001b[0m\n\u001b[1;32m    178\u001b[0m         \u001b[0;32mtry\u001b[0m\u001b[0;34m:\u001b[0m\u001b[0;34m\u001b[0m\u001b[0;34m\u001b[0m\u001b[0m\n\u001b[0;32m--> 179\u001b[0;31m             \u001b[0;32mreturn\u001b[0m \u001b[0mf\u001b[0m\u001b[0;34m(\u001b[0m\u001b[0;34m*\u001b[0m\u001b[0ma\u001b[0m\u001b[0;34m,\u001b[0m \u001b[0;34m**\u001b[0m\u001b[0mkw\u001b[0m\u001b[0;34m)\u001b[0m\u001b[0;34m\u001b[0m\u001b[0;34m\u001b[0m\u001b[0m\n\u001b[0m\u001b[1;32m    180\u001b[0m         \u001b[0;32mexcept\u001b[0m \u001b[0mPy4JJavaError\u001b[0m \u001b[0;32mas\u001b[0m \u001b[0me\u001b[0m\u001b[0;34m:\u001b[0m\u001b[0;34m\u001b[0m\u001b[0;34m\u001b[0m\u001b[0m\n\u001b[1;32m    181\u001b[0m             \u001b[0mconverted\u001b[0m \u001b[0;34m=\u001b[0m \u001b[0mconvert_exception\u001b[0m\u001b[0;34m(\u001b[0m\u001b[0me\u001b[0m\u001b[0;34m.\u001b[0m\u001b[0mjava_exception\u001b[0m\u001b[0;34m)\u001b[0m\u001b[0;34m\u001b[0m\u001b[0;34m\u001b[0m\u001b[0m\n",
            "\u001b[0;32m/usr/local/lib/python3.10/dist-packages/py4j/protocol.py\u001b[0m in \u001b[0;36mget_return_value\u001b[0;34m(answer, gateway_client, target_id, name)\u001b[0m\n\u001b[1;32m    324\u001b[0m             \u001b[0mvalue\u001b[0m \u001b[0;34m=\u001b[0m \u001b[0mOUTPUT_CONVERTER\u001b[0m\u001b[0;34m[\u001b[0m\u001b[0mtype\u001b[0m\u001b[0;34m]\u001b[0m\u001b[0;34m(\u001b[0m\u001b[0manswer\u001b[0m\u001b[0;34m[\u001b[0m\u001b[0;36m2\u001b[0m\u001b[0;34m:\u001b[0m\u001b[0;34m]\u001b[0m\u001b[0;34m,\u001b[0m \u001b[0mgateway_client\u001b[0m\u001b[0;34m)\u001b[0m\u001b[0;34m\u001b[0m\u001b[0;34m\u001b[0m\u001b[0m\n\u001b[1;32m    325\u001b[0m             \u001b[0;32mif\u001b[0m \u001b[0manswer\u001b[0m\u001b[0;34m[\u001b[0m\u001b[0;36m1\u001b[0m\u001b[0;34m]\u001b[0m \u001b[0;34m==\u001b[0m \u001b[0mREFERENCE_TYPE\u001b[0m\u001b[0;34m:\u001b[0m\u001b[0;34m\u001b[0m\u001b[0;34m\u001b[0m\u001b[0m\n\u001b[0;32m--> 326\u001b[0;31m                 raise Py4JJavaError(\n\u001b[0m\u001b[1;32m    327\u001b[0m                     \u001b[0;34m\"An error occurred while calling {0}{1}{2}.\\n\"\u001b[0m\u001b[0;34m.\u001b[0m\u001b[0;34m\u001b[0m\u001b[0;34m\u001b[0m\u001b[0m\n\u001b[1;32m    328\u001b[0m                     format(target_id, \".\", name), value)\n",
            "\u001b[0;31mPy4JJavaError\u001b[0m: An error occurred while calling None.org.apache.spark.api.java.JavaSparkContext.\n: org.apache.spark.SparkException: Only one SparkContext should be running in this JVM (see SPARK-2243).The currently running SparkContext was created at:\norg.apache.spark.api.java.JavaSparkContext.<init>(JavaSparkContext.scala:58)\njava.base/jdk.internal.reflect.NativeConstructorAccessorImpl.newInstance0(Native Method)\njava.base/jdk.internal.reflect.NativeConstructorAccessorImpl.newInstance(NativeConstructorAccessorImpl.java:62)\njava.base/jdk.internal.reflect.DelegatingConstructorAccessorImpl.newInstance(DelegatingConstructorAccessorImpl.java:45)\njava.base/java.lang.reflect.Constructor.newInstance(Constructor.java:490)\npy4j.reflection.MethodInvoker.invoke(MethodInvoker.java:247)\npy4j.reflection.ReflectionEngine.invoke(ReflectionEngine.java:374)\npy4j.Gateway.invoke(Gateway.java:238)\npy4j.commands.ConstructorCommand.invokeConstructor(ConstructorCommand.java:80)\npy4j.commands.ConstructorCommand.execute(ConstructorCommand.java:69)\npy4j.ClientServerConnection.waitForCommands(ClientServerConnection.java:182)\npy4j.ClientServerConnection.run(ClientServerConnection.java:106)\njava.base/java.lang.Thread.run(Thread.java:829)\n\tat org.apache.spark.SparkContext$.$anonfun$assertNoOtherContextIsRunning$2(SparkContext.scala:2840)\n\tat scala.Option.foreach(Option.scala:407)\n\tat org.apache.spark.SparkContext$.assertNoOtherContextIsRunning(SparkContext.scala:2837)\n\tat org.apache.spark.SparkContext$.markPartiallyConstructed(SparkContext.scala:2927)\n\tat org.apache.spark.SparkContext.<init>(SparkContext.scala:99)\n\tat org.apache.spark.api.java.JavaSparkContext.<init>(JavaSparkContext.scala:58)\n\tat java.base/jdk.internal.reflect.NativeConstructorAccessorImpl.newInstance0(Native Method)\n\tat java.base/jdk.internal.reflect.NativeConstructorAccessorImpl.newInstance(NativeConstructorAccessorImpl.java:62)\n\tat java.base/jdk.internal.reflect.DelegatingConstructorAccessorImpl.newInstance(DelegatingConstructorAccessorImpl.java:45)\n\tat java.base/java.lang.reflect.Constructor.newInstance(Constructor.java:490)\n\tat py4j.reflection.MethodInvoker.invoke(MethodInvoker.java:247)\n\tat py4j.reflection.ReflectionEngine.invoke(ReflectionEngine.java:374)\n\tat py4j.Gateway.invoke(Gateway.java:238)\n\tat py4j.commands.ConstructorCommand.invokeConstructor(ConstructorCommand.java:80)\n\tat py4j.commands.ConstructorCommand.execute(ConstructorCommand.java:69)\n\tat py4j.ClientServerConnection.waitForCommands(ClientServerConnection.java:182)\n\tat py4j.ClientServerConnection.run(ClientServerConnection.java:106)\n\tat java.base/java.lang.Thread.run(Thread.java:829)\n"
          ]
        }
      ]
    },
    {
      "cell_type": "code",
      "source": [
        "!pip install pyngrok\n",
        "from pyngrok import ngrok\n",
        "\n"
      ],
      "metadata": {
        "colab": {
          "base_uri": "https://localhost:8080/"
        },
        "id": "8ZoIOSXZCWHM",
        "outputId": "2e60529c-1d0d-4e54-e78c-82fcd52d0a2b"
      },
      "id": "8ZoIOSXZCWHM",
      "execution_count": null,
      "outputs": [
        {
          "output_type": "stream",
          "name": "stdout",
          "text": [
            "Requirement already satisfied: pyngrok in /usr/local/lib/python3.10/dist-packages (7.2.1)\n",
            "Requirement already satisfied: PyYAML>=5.1 in /usr/local/lib/python3.10/dist-packages (from pyngrok) (6.0.2)\n"
          ]
        }
      ]
    },
    {
      "cell_type": "code",
      "source": [
        "!ngrok config add-authtoken 2ooVcI9nctf29nB5YGdyLUsFef1_E6GMajTU6nZz9KPbQyz4\n"
      ],
      "metadata": {
        "colab": {
          "base_uri": "https://localhost:8080/"
        },
        "id": "TND97aWGC4eq",
        "outputId": "ca8709c3-aa06-4874-d78a-94b339734e82"
      },
      "id": "TND97aWGC4eq",
      "execution_count": null,
      "outputs": [
        {
          "output_type": "stream",
          "name": "stdout",
          "text": [
            "Authtoken saved to configuration file: /root/.config/ngrok/ngrok.yml\n"
          ]
        }
      ]
    },
    {
      "cell_type": "code",
      "execution_count": null,
      "id": "ed2a11fd-dbf2-4500-b581-ac0f0bf848d6",
      "metadata": {
        "id": "ed2a11fd-dbf2-4500-b581-ac0f0bf848d6"
      },
      "outputs": [],
      "source": [
        "# Operation 1: Correcting feature names\n",
        "# Rename columns with dots\n",
        "df = df.withColumnRenamed(\"pm2.5\", \"pm25\") \\\n",
        "       .withColumnRenamed(\"pm2.5_avg\", \"pm25_avg\") \\\n",
        "       .withColumnRenamed(\"pm10_avg\", \"pm10avg\") \\\n",
        "       .withColumnRenamed(\"o3_8hr\", \"o3_8hr_avg\") \\\n",
        "       .withColumnRenamed(\"co_8hr\", \"co_8hr_avg\")\n"
      ]
    },
    {
      "cell_type": "code",
      "execution_count": null,
      "id": "d3039424-10c9-4673-8559-83f3a1310e1a",
      "metadata": {
        "colab": {
          "base_uri": "https://localhost:8080/"
        },
        "id": "d3039424-10c9-4673-8559-83f3a1310e1a",
        "outputId": "e4e359f9-005b-4e87-fd02-21b717a79f43"
      },
      "outputs": [
        {
          "output_type": "stream",
          "name": "stdout",
          "text": [
            "root\n",
            " |-- date: timestamp (nullable = true)\n",
            " |-- sitename: string (nullable = true)\n",
            " |-- county: string (nullable = true)\n",
            " |-- aqi: double (nullable = true)\n",
            " |-- pollutant: string (nullable = true)\n",
            " |-- status: string (nullable = true)\n",
            " |-- so2: double (nullable = true)\n",
            " |-- co: double (nullable = true)\n",
            " |-- o3: double (nullable = true)\n",
            " |-- o3_8hr_avg: double (nullable = true)\n",
            " |-- pm10: double (nullable = true)\n",
            " |-- pm25: double (nullable = true)\n",
            " |-- no2: double (nullable = true)\n",
            " |-- nox: double (nullable = true)\n",
            " |-- no: double (nullable = true)\n",
            " |-- windspeed: double (nullable = true)\n",
            " |-- winddirec: double (nullable = true)\n",
            " |-- unit: string (nullable = true)\n",
            " |-- co_8hr_avg: double (nullable = true)\n",
            " |-- pm25_avg: double (nullable = true)\n",
            " |-- pm10avg: double (nullable = true)\n",
            " |-- so2_avg: double (nullable = true)\n",
            " |-- longitude: double (nullable = true)\n",
            " |-- latitude: double (nullable = true)\n",
            " |-- siteid: double (nullable = true)\n",
            "\n"
          ]
        }
      ],
      "source": [
        "# Operation 2: Correcting data_types\n",
        "from pyspark.sql.functions import to_timestamp\n",
        "# Convert renamed numeric columns to double\n",
        "numeric_cols = ['aqi', 'so2', 'co', 'o3', 'o3_8hr_avg', 'pm10', 'pm25', 'no2',\n",
        "                'nox', 'no', 'windspeed', 'winddirec', 'co_8hr_avg', 'pm25_avg',\n",
        "                'pm10avg', 'so2_avg']\n",
        "\n",
        "for col_name in numeric_cols:\n",
        "    df = df.withColumn(col_name, col(col_name).cast('double'))\n",
        "# Convert the 'date' column to a proper date format\n",
        "df = df.withColumn('date', to_timestamp('date', 'yyyy-MM-dd HH:mm'))\n",
        "df.printSchema()"
      ]
    },
    {
      "cell_type": "code",
      "execution_count": null,
      "id": "13387b0a-2a79-4101-9140-a08e1cb61c1b",
      "metadata": {
        "colab": {
          "base_uri": "https://localhost:8080/"
        },
        "id": "13387b0a-2a79-4101-9140-a08e1cb61c1b",
        "outputId": "587e4487-6411-49af-cdca-26ee088f9d31"
      },
      "outputs": [
        {
          "output_type": "execute_result",
          "data": {
            "text/plain": [
              "100000"
            ]
          },
          "metadata": {},
          "execution_count": 49
        }
      ],
      "source": [
        "df.count()"
      ]
    },
    {
      "cell_type": "code",
      "execution_count": null,
      "id": "23ed8c6f-6114-4135-aee9-18aa7049ad59",
      "metadata": {
        "id": "23ed8c6f-6114-4135-aee9-18aa7049ad59"
      },
      "outputs": [],
      "source": [
        "# Operation 3: Replacing Null values with Median Mode\n",
        "from pyspark.sql.functions import col, when, avg\n",
        "from pyspark.sql import functions as F\n",
        "\n",
        "# List of numerical columns\n",
        "numeric_cols = ['aqi', 'so2', 'co', 'o3', 'o3_8hr_avg', 'pm10', 'pm25', 'no2',\n",
        "                'nox', 'no', 'windspeed', 'winddirec', 'co_8hr_avg', 'pm25_avg',\n",
        "                'pm10avg', 'so2_avg']\n",
        "\n",
        "# Clean numerical columns: Replace `'-'` with `null`\n",
        "for col_name in numeric_cols:\n",
        "    df = df.withColumn(col_name,when(col(col_name).contains('-'), None).otherwise(col(col_name)))\n",
        "\n",
        "# Replace `null` in numerical columns with median\n",
        "for col_name in numeric_cols:\n",
        "    # Calculate the median\n",
        "    median = df.approxQuantile(col_name, [0.5], 0)[0]\n",
        "\n",
        "    # Replace `null` with median\n",
        "    df = df.fillna({col_name: median})\n",
        "\n",
        "\n",
        "# List of categorical columns\n",
        "categorical_cols = ['sitename', 'county', 'pollutant', 'status']\n",
        "\n",
        "# Clean categorical columns: Replace rows with `'-'` or `null` values\n",
        "for col_name in categorical_cols:\n",
        "    df = df.withColumn(col_name, when(col(col_name).contains('-'), None).otherwise(col(col_name)))\n",
        "\n",
        "# Replace `null` values in categorical columns with mode\n",
        "for col_name in categorical_cols:\n",
        "    # Calculate the mode (most frequent value)\n",
        "    mode_value = df.groupBy(col_name).agg(F.count(col_name).alias('count')).orderBy(F.desc('count')).first()[0]\n",
        "\n",
        "    # Replace `null` with mode\n",
        "    df = df.fillna({col_name: mode_value})"
      ]
    },
    {
      "cell_type": "code",
      "execution_count": null,
      "id": "26ea0393-2d7c-45d6-b9e6-9ded54123976",
      "metadata": {
        "colab": {
          "base_uri": "https://localhost:8080/"
        },
        "id": "26ea0393-2d7c-45d6-b9e6-9ded54123976",
        "outputId": "d9eaa4d9-3bff-4901-de6b-0666fefad4a8"
      },
      "outputs": [
        {
          "output_type": "execute_result",
          "data": {
            "text/plain": [
              "100000"
            ]
          },
          "metadata": {},
          "execution_count": 51
        }
      ],
      "source": [
        "df.count()"
      ]
    },
    {
      "cell_type": "code",
      "execution_count": null,
      "id": "5099307a-bba8-4e5d-968e-d3e44bb69f0e",
      "metadata": {
        "colab": {
          "base_uri": "https://localhost:8080/"
        },
        "id": "5099307a-bba8-4e5d-968e-d3e44bb69f0e",
        "outputId": "3c364e65-1846-4808-bc26-6037254bd7a4"
      },
      "outputs": [
        {
          "output_type": "stream",
          "name": "stdout",
          "text": [
            "Columns containing `null` values:\n",
            "  - unit: 100000 occurrences\n"
          ]
        }
      ],
      "source": [
        "columns_with_nulls = {}\n",
        "# Check if `null` exists in each column\n",
        "for col_name in df.columns:\n",
        "    null_count = df.filter(col(col_name).isNull()).count()\n",
        "    if null_count > 0:\n",
        "        columns_with_nulls[col_name] = null_count\n",
        "\n",
        "# Display the columns containing `null` values\n",
        "if columns_with_nulls:\n",
        "    print(\"Columns containing `null` values:\")\n",
        "    for col_name, count in columns_with_nulls.items():\n",
        "        print(f\"  - {col_name}: {count} occurrences\")\n",
        "else:\n",
        "    print(\"No columns contain `null` values.\")\n"
      ]
    },
    {
      "cell_type": "code",
      "execution_count": null,
      "id": "7c40b411-80c5-4129-a645-50d2f84d7df0",
      "metadata": {
        "id": "7c40b411-80c5-4129-a645-50d2f84d7df0"
      },
      "outputs": [],
      "source": [
        "# Operation 4: Removing irrelavent features\n",
        "df = df.drop('unit', 'siteid', 'pollutant')"
      ]
    },
    {
      "cell_type": "code",
      "execution_count": null,
      "id": "53827a22-429e-4b43-ace3-3c9eac730a54",
      "metadata": {
        "colab": {
          "base_uri": "https://localhost:8080/"
        },
        "id": "53827a22-429e-4b43-ace3-3c9eac730a54",
        "outputId": "df718f12-8537-4485-9597-ab687400d619"
      },
      "outputs": [
        {
          "output_type": "execute_result",
          "data": {
            "text/plain": [
              "['date',\n",
              " 'sitename',\n",
              " 'county',\n",
              " 'aqi',\n",
              " 'status',\n",
              " 'so2',\n",
              " 'co',\n",
              " 'o3',\n",
              " 'o3_8hr_avg',\n",
              " 'pm10',\n",
              " 'pm25',\n",
              " 'no2',\n",
              " 'nox',\n",
              " 'no',\n",
              " 'windspeed',\n",
              " 'winddirec',\n",
              " 'co_8hr_avg',\n",
              " 'pm25_avg',\n",
              " 'pm10avg',\n",
              " 'so2_avg',\n",
              " 'longitude',\n",
              " 'latitude']"
            ]
          },
          "metadata": {},
          "execution_count": 54
        }
      ],
      "source": [
        "df.columns"
      ]
    },
    {
      "cell_type": "code",
      "execution_count": null,
      "id": "37df840d-42dc-4061-b984-20c684262fde",
      "metadata": {
        "id": "37df840d-42dc-4061-b984-20c684262fde"
      },
      "outputs": [],
      "source": [
        "# Operation 5: Filter Invalid Geospatial Data\n",
        "df = df.filter((col('longitude') >= -180) & (col('longitude') <= 180) &\n",
        "               (col('latitude') >= -90) & (col('latitude') <= 90))"
      ]
    },
    {
      "cell_type": "code",
      "execution_count": null,
      "id": "3263edd2-2405-43e4-8cbb-2e361e0e90f4",
      "metadata": {
        "colab": {
          "base_uri": "https://localhost:8080/"
        },
        "id": "3263edd2-2405-43e4-8cbb-2e361e0e90f4",
        "outputId": "d9041d3d-a8c6-4aaa-9dd8-68ffe22d718f"
      },
      "outputs": [
        {
          "output_type": "stream",
          "name": "stdout",
          "text": [
            "root\n",
            " |-- date: timestamp (nullable = true)\n",
            " |-- sitename: string (nullable = false)\n",
            " |-- county: string (nullable = false)\n",
            " |-- aqi: double (nullable = false)\n",
            " |-- status: string (nullable = false)\n",
            " |-- so2: double (nullable = false)\n",
            " |-- co: double (nullable = false)\n",
            " |-- o3: double (nullable = false)\n",
            " |-- o3_8hr_avg: double (nullable = false)\n",
            " |-- pm10: double (nullable = false)\n",
            " |-- pm25: double (nullable = false)\n",
            " |-- no2: double (nullable = false)\n",
            " |-- nox: double (nullable = false)\n",
            " |-- no: double (nullable = false)\n",
            " |-- windspeed: double (nullable = false)\n",
            " |-- winddirec: double (nullable = false)\n",
            " |-- co_8hr_avg: double (nullable = false)\n",
            " |-- pm25_avg: double (nullable = false)\n",
            " |-- pm10avg: double (nullable = false)\n",
            " |-- so2_avg: double (nullable = false)\n",
            " |-- longitude: double (nullable = true)\n",
            " |-- latitude: double (nullable = true)\n",
            "\n"
          ]
        }
      ],
      "source": [
        "df.printSchema()"
      ]
    },
    {
      "cell_type": "code",
      "execution_count": null,
      "id": "bc71be8c-211b-4178-a37b-1111ad8d07f1",
      "metadata": {
        "id": "bc71be8c-211b-4178-a37b-1111ad8d07f1"
      },
      "outputs": [],
      "source": [
        "# Operation 6: Removing outliers\n",
        "\n",
        "def remove_outliers(df, col_name):\n",
        "    q1, q3 = df.approxQuantile(col_name, [0.25, 0.75], 0)\n",
        "    iqr = q3 - q1\n",
        "    lower_bound = q1 - 1.5 * iqr\n",
        "    upper_bound = q3 + 1.5 * iqr\n",
        "    return df.filter((col(col_name) >= lower_bound) & (col(col_name) <= upper_bound))\n",
        "numerical_cols = [\n",
        "    'aqi', 'so2', 'co', 'o3', 'o3_8hr_avg', 'pm10', 'pm25', 'no2',\n",
        "    'nox', 'no', 'windspeed', 'winddirec', 'co_8hr_avg', 'pm25_avg',\n",
        "    'pm10avg', 'so2_avg', 'longitude', 'latitude'\n",
        "]\n",
        "\n",
        "for col_name in numeric_cols:\n",
        "    dff = remove_outliers(df, col_name)\n"
      ]
    },
    {
      "cell_type": "code",
      "execution_count": null,
      "id": "03c39ff0-018e-4f36-be2d-a99a9a5deca1",
      "metadata": {
        "colab": {
          "base_uri": "https://localhost:8080/",
          "height": 186
        },
        "id": "03c39ff0-018e-4f36-be2d-a99a9a5deca1",
        "outputId": "3d66520b-7bab-4f3f-a1a8-c9b51ddaf9e4"
      },
      "outputs": [
        {
          "output_type": "execute_result",
          "data": {
            "text/plain": [
              "pyspark.sql.dataframe.DataFrame"
            ],
            "text/html": [
              "<div style=\"max-width:800px; border: 1px solid var(--colab-border-color);\"><style>\n",
              "      pre.function-repr-contents {\n",
              "        overflow-x: auto;\n",
              "        padding: 8px 12px;\n",
              "        max-height: 500px;\n",
              "      }\n",
              "\n",
              "      pre.function-repr-contents.function-repr-contents-collapsed {\n",
              "        cursor: pointer;\n",
              "        max-height: 100px;\n",
              "      }\n",
              "    </style>\n",
              "    <pre style=\"white-space: initial; background:\n",
              "         var(--colab-secondary-surface-color); padding: 8px 12px;\n",
              "         border-bottom: 1px solid var(--colab-border-color);\"><b>pyspark.sql.dataframe.DataFrame</b><br/>def __init__(jdf: JavaObject, sql_ctx: Union[&#x27;SQLContext&#x27;, &#x27;SparkSession&#x27;])</pre><pre class=\"function-repr-contents function-repr-contents-collapsed\" style=\"\"><a class=\"filepath\" style=\"display:none\" href=\"#\">/usr/local/lib/python3.10/dist-packages/pyspark/sql/dataframe.py</a>A distributed collection of data grouped into named columns.\n",
              "\n",
              ".. versionadded:: 1.3.0\n",
              "\n",
              ".. versionchanged:: 3.4.0\n",
              "    Supports Spark Connect.\n",
              "\n",
              "Examples\n",
              "--------\n",
              "A :class:`DataFrame` is equivalent to a relational table in Spark SQL,\n",
              "and can be created using various functions in :class:`SparkSession`:\n",
              "\n",
              "&gt;&gt;&gt; people = spark.createDataFrame([\n",
              "...     {&quot;deptId&quot;: 1, &quot;age&quot;: 40, &quot;name&quot;: &quot;Hyukjin Kwon&quot;, &quot;gender&quot;: &quot;M&quot;, &quot;salary&quot;: 50},\n",
              "...     {&quot;deptId&quot;: 1, &quot;age&quot;: 50, &quot;name&quot;: &quot;Takuya Ueshin&quot;, &quot;gender&quot;: &quot;M&quot;, &quot;salary&quot;: 100},\n",
              "...     {&quot;deptId&quot;: 2, &quot;age&quot;: 60, &quot;name&quot;: &quot;Xinrong Meng&quot;, &quot;gender&quot;: &quot;F&quot;, &quot;salary&quot;: 150},\n",
              "...     {&quot;deptId&quot;: 3, &quot;age&quot;: 20, &quot;name&quot;: &quot;Haejoon Lee&quot;, &quot;gender&quot;: &quot;M&quot;, &quot;salary&quot;: 200}\n",
              "... ])\n",
              "\n",
              "Once created, it can be manipulated using the various domain-specific-language\n",
              "(DSL) functions defined in: :class:`DataFrame`, :class:`Column`.\n",
              "\n",
              "To select a column from the :class:`DataFrame`, use the apply method:\n",
              "\n",
              "&gt;&gt;&gt; age_col = people.age\n",
              "\n",
              "A more concrete example:\n",
              "\n",
              "&gt;&gt;&gt; # To create DataFrame using SparkSession\n",
              "... department = spark.createDataFrame([\n",
              "...     {&quot;id&quot;: 1, &quot;name&quot;: &quot;PySpark&quot;},\n",
              "...     {&quot;id&quot;: 2, &quot;name&quot;: &quot;ML&quot;},\n",
              "...     {&quot;id&quot;: 3, &quot;name&quot;: &quot;Spark SQL&quot;}\n",
              "... ])\n",
              "\n",
              "&gt;&gt;&gt; people.filter(people.age &gt; 30).join(\n",
              "...     department, people.deptId == department.id).groupBy(\n",
              "...     department.name, &quot;gender&quot;).agg({&quot;salary&quot;: &quot;avg&quot;, &quot;age&quot;: &quot;max&quot;}).show()\n",
              "+-------+------+-----------+--------+\n",
              "|   name|gender|avg(salary)|max(age)|\n",
              "+-------+------+-----------+--------+\n",
              "|     ML|     F|      150.0|      60|\n",
              "|PySpark|     M|       75.0|      50|\n",
              "+-------+------+-----------+--------+\n",
              "\n",
              "Notes\n",
              "-----\n",
              "A DataFrame should only be created as described above. It should not be directly\n",
              "created via using the constructor.</pre>\n",
              "      <script>\n",
              "      if (google.colab.kernel.accessAllowed && google.colab.files && google.colab.files.view) {\n",
              "        for (const element of document.querySelectorAll('.filepath')) {\n",
              "          element.style.display = 'block'\n",
              "          element.onclick = (event) => {\n",
              "            event.preventDefault();\n",
              "            event.stopPropagation();\n",
              "            google.colab.files.view(element.textContent, 80);\n",
              "          };\n",
              "        }\n",
              "      }\n",
              "      for (const element of document.querySelectorAll('.function-repr-contents')) {\n",
              "        element.onclick = (event) => {\n",
              "          event.preventDefault();\n",
              "          event.stopPropagation();\n",
              "          element.classList.toggle('function-repr-contents-collapsed');\n",
              "        };\n",
              "      }\n",
              "      </script>\n",
              "      </div>"
            ]
          },
          "metadata": {},
          "execution_count": 58
        }
      ],
      "source": [
        "type(dff)"
      ]
    },
    {
      "cell_type": "code",
      "source": [
        "from pyspark.sql import SparkSession\n",
        "from pyspark.sql.functions import col, to_timestamp\n",
        "from pyspark.ml import Pipeline\n",
        "from pyspark.ml.feature import StringIndexer, VectorAssembler, StandardScaler\n",
        "from pyspark.ml.regression import LinearRegression, DecisionTreeRegressor, RandomForestRegressor, GBTRegressor\n",
        "from pyspark.ml.evaluation import RegressionEvaluator, ClusteringEvaluator\n",
        "from pyspark.ml.classification import LogisticRegression\n",
        "from pyspark.ml.clustering import KMeans\n",
        "import matplotlib.pyplot as plt\n",
        "\n",
        "# Initialize Spark session\n",
        "spark = SparkSession.builder.appName(\"MLPipeline\").getOrCreate()\n",
        "\n",
        "# Ensure the SparkContext is accessible\n",
        "sc = spark.sparkContext\n",
        "\n",
        "# Load data into DataFrame\n",
        "dff = spark.read.csv(\"project.csv\", header=True, inferSchema=True)\n",
        "\n",
        "# Rename columns to remove dots\n",
        "dff = dff.withColumnRenamed(\"pm2.5\", \"pm25\") \\\n",
        "         .withColumnRenamed(\"pm2.5_avg\", \"pm25_avg\")\n",
        "\n",
        "# Convert columns to correct data types\n",
        "numeric_cols = ['so2', 'co', 'o3', 'o3_8hr', 'pm10', 'pm25', 'no2', 'nox', 'no', 'windspeed', 'winddirec', 'co_8hr', 'pm25_avg', 'pm10_avg', 'so2_avg']\n",
        "for col_name in numeric_cols:\n",
        "    dff = dff.withColumn(col_name, col(col_name).cast(\"double\"))\n",
        "\n",
        "# Drop rows with null values in the numeric columns\n",
        "dff = dff.na.drop(subset=numeric_cols)\n",
        "\n",
        "# List of categorical columns\n",
        "categorical_cols = ['status', 'sitename', 'county']\n",
        "\n",
        "# Step 1: Encode categorical columns using StringIndexer\n",
        "indexers = []\n",
        "for col_name in categorical_cols:\n",
        "    indexer = StringIndexer(inputCol=col_name, outputCol=col_name + \"_indexed\")\n",
        "    indexers.append(indexer)\n",
        "\n",
        "# Step 2: Assemble features using VectorAssembler\n",
        "assembler = VectorAssembler(inputCols=numeric_cols + [col + \"_indexed\" for col in categorical_cols], outputCol=\"features\", handleInvalid=\"skip\")\n",
        "\n",
        "# Step 3: Scale numerical features\n",
        "scaler = StandardScaler(inputCol=\"features\", outputCol=\"scaledFeatures\")\n",
        "\n",
        "# Step 4: Create a list of regressors (you can add more algorithms if desired)\n",
        "regressors = [\n",
        "    LinearRegression(featuresCol=\"scaledFeatures\", labelCol=\"aqi\"),\n",
        "    DecisionTreeRegressor(featuresCol=\"scaledFeatures\", labelCol=\"aqi\"),\n",
        "    RandomForestRegressor(featuresCol=\"scaledFeatures\", labelCol=\"aqi\"),\n",
        "    GBTRegressor(featuresCol=\"scaledFeatures\", labelCol=\"aqi\"),\n",
        "    LogisticRegression(featuresCol=\"scaledFeatures\", labelCol=\"aqi\"),  # For binary regression\n",
        "    KMeans(featuresCol=\"scaledFeatures\", k=2)  # KMeans can also be used for regression-like tasks\n",
        "]\n",
        "\n",
        "# Step 5: Create a list of pipelines\n",
        "pipelines = []\n",
        "for regressor in regressors:\n",
        "    pipeline = Pipeline(stages=indexers + [assembler, scaler, regressor])\n",
        "    pipelines.append(pipeline)\n",
        "\n",
        "# Step 6: Split the data into training and test sets\n",
        "(trainingData, testData) = dff.randomSplit([0.7, 0.3], seed=42)\n",
        "\n",
        "# Lists to store results for visualization\n",
        "rmse_values = []\n",
        "model_names = []\n",
        "silhouette_scores = []\n",
        "\n",
        "# Step 7: Fit and evaluate each pipeline\n",
        "for pipeline in pipelines:\n",
        "    model = pipeline.fit(trainingData)\n",
        "    predictions = model.transform(testData)\n",
        "\n",
        "    # Check if the current model is KMeans or LogisticRegression\n",
        "    last_stage = pipeline.getStages()[-1]\n",
        "\n",
        "    if isinstance(last_stage, KMeans):\n",
        "        # Evaluate KMeans using ClusteringEvaluator (for clustering tasks)\n",
        "        evaluator = ClusteringEvaluator(predictionCol=\"prediction\")\n",
        "        silhouette_score = evaluator.evaluate(predictions)\n",
        "        silhouette_scores.append(silhouette_score)\n",
        "        model_names.append(\"KMeans\")\n",
        "        print(f\"Silhouette score for KMeans: {silhouette_score}\")\n",
        "\n",
        "        # Visualize KMeans clustering\n",
        "        centers = model.stages[-1].clusterCenters()\n",
        "        clustered_data = predictions.select(\"scaledFeatures\", \"prediction\").toPandas()\n",
        "\n",
        "        plt.figure(figsize=(10, 6))\n",
        "        plt.scatter(clustered_data['scaledFeatures'].apply(lambda x: x[0]), clustered_data['scaledFeatures'].apply(lambda x: x[1]), c=clustered_data['prediction'], cmap='viridis')\n",
        "        plt.scatter([center[0] for center in centers], [center[1] for center in centers], color='red', marker='x', s=200, linewidths=2, label='Centroids')\n",
        "        plt.xlabel('Feature 1')\n",
        "        plt.ylabel('Feature 2')\n",
        "        plt.title('KMeans Clustering')\n",
        "        plt.legend()\n",
        "        plt.show()\n",
        "\n",
        "    elif isinstance(last_stage, LogisticRegression):\n",
        "        # For LogisticRegression, evaluate classification performance (e.g., using accuracy or other metrics)\n",
        "        evaluator = RegressionEvaluator(labelCol=\"aqi\", predictionCol=\"prediction\", metricName=\"rmse\")\n",
        "        accuracy = evaluator.evaluate(predictions)  # You can change this to accuracy/evaluator specific to classification\n",
        "        rmse_values.append(accuracy)\n",
        "        model_names.append(\"LogisticRegression\")\n",
        "        print(f\"Accuracy for LogisticRegression (interpreted as RMSE): {accuracy}\")\n",
        "\n",
        "    else:\n",
        "        # For regression models (LinearRegression, DecisionTreeRegressor, etc.), use RegressionEvaluator\n",
        "        evaluator = RegressionEvaluator(labelCol=\"aqi\", predictionCol=\"prediction\", metricName=\"rmse\")\n",
        "        rmse = evaluator.evaluate(predictions)\n",
        "        rmse_values.append(rmse)\n",
        "        model_names.append(type(last_stage).__name__)\n",
        "        print(f\"RMSE for {type(last_stage).__name__}: {rmse}\")\n",
        "\n",
        "# Plot RMSE values for regression models\n",
        "plt.figure(figsize=(10, 6))\n",
        "plt.bar(model_names[:len(rmse_values)], rmse_values, color='skyblue')\n",
        "plt.xlabel('Model')\n",
        "plt.ylabel('RMSE')\n",
        "plt.title('RMSE of Regression Models')\n",
        "plt.xticks(rotation=45)\n",
        "plt.show()\n",
        "\n",
        "\n",
        "\n",
        "# Stop the Spark session\n",
        "spark.stop()\n"
      ],
      "metadata": {
        "colab": {
          "base_uri": "https://localhost:8080/",
          "height": 1000
        },
        "id": "j_xiBTUCuSsc",
        "outputId": "eed9017f-be56-4e4a-fe21-b0eded2f5a58"
      },
      "execution_count": null,
      "outputs": [
        {
          "output_type": "stream",
          "name": "stdout",
          "text": [
            "RMSE for LinearRegression: 5.997184896032873\n",
            "RMSE for DecisionTreeRegressor: 3.89783073788256\n",
            "RMSE for RandomForestRegressor: 4.849760816167788\n",
            "RMSE for GBTRegressor: 2.837115840577493\n",
            "Accuracy for LogisticRegression (interpreted as RMSE): 5.939527120106812\n",
            "Silhouette score for KMeans: 0.13445065497385514\n"
          ]
        },
        {
          "output_type": "display_data",
          "data": {
            "text/plain": [
              "<Figure size 1000x600 with 1 Axes>"
            ],
            "image/png": "[encoded data removed]"
          },
          "metadata": {}
        },
        {
          "output_type": "display_data",
          "data": {
            "text/plain": [
              "<Figure size 1000x600 with 1 Axes>"
            ],
            "image/png": "[encoded data removed]"
          },
          "metadata": {}
        }
      ],
      "id": "j_xiBTUCuSsc"
    },
    {
      "cell_type": "code",
      "execution_count": null,
      "id": "b815c2d3-2a94-4adc-933a-a6acdb72774a",
      "metadata": {
        "id": "b815c2d3-2a94-4adc-933a-a6acdb72774a"
      },
      "outputs": [],
      "source": [
        "from pyspark import SparkConf, SparkContext\n",
        "conf = SparkConf().set(\"spark.ui.port\", \"4041\")  # Set to a different port\n",
        "sc = SparkContext(conf=conf)\n"
      ]
    },
    {
      "cell_type": "code",
      "source": [
        "public_url = ngrok.connect(4041)\n",
        "print(\"Access Spark UI at:\", public_url)\n"
      ],
      "metadata": {
        "colab": {
          "base_uri": "https://localhost:8080/"
        },
        "id": "OHVDHbBxBc7y",
        "outputId": "4b169c36-8bc7-4a8d-f77b-400bce3dec79"
      },
      "id": "OHVDHbBxBc7y",
      "execution_count": null,
      "outputs": [
        {
          "output_type": "stream",
          "name": "stdout",
          "text": [
            "Access Spark UI at: NgrokTunnel: \"https://a2e5-34-106-110-205.ngrok-free.app\" -> \"http://localhost:4041\"\n"
          ]
        }
      ]
    },
    {
      "cell_type": "code",
      "execution_count": null,
      "id": "efd15268-1072-4cf0-b73e-d297d6bf6091",
      "metadata": {
        "id": "efd15268-1072-4cf0-b73e-d297d6bf6091"
      },
      "outputs": [],
      "source": [
        "spark.stop()"
      ]
    },
    {
      "cell_type": "code",
      "source": [],
      "metadata": {
        "id": "76Br52EsWAS5"
      },
      "id": "76Br52EsWAS5",
      "execution_count": null,
      "outputs": []
    }
  ],
  "metadata": {
    "kernelspec": {
      "display_name": "Python 3 (ipykernel)",
      "language": "python",
      "name": "python3"
    },
    "language_info": {
      "codemirror_mode": {
        "name": "ipython",
        "version": 3
      },
      "file_extension": ".py",
      "mimetype": "text/x-python",
      "name": "python",
      "nbconvert_exporter": "python",
      "pygments_lexer": "ipython3",
      "version": "3.10.0"
    },
    "colab": {
      "provenance": []
    }
  },
  "nbformat": 4,
  "nbformat_minor": 5
}